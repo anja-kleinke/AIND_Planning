{
 "cells": [
  {
   "cell_type": "markdown",
   "metadata": {},
   "source": [
    "# Analysis"
   ]
  },
  {
   "cell_type": "markdown",
   "metadata": {},
   "source": [
    "## Introduction  \n",
    "We solved the Air Cargo Problem using several search algorithms, which we are going to compare here.  \n",
    "The problems were given as follows:  \n",
    "All problems are in the Air Cargo domain. They have the same action schema defined, but different initial states and goals.\n",
    "\n",
    "### Air Cargo Action Schema:\n",
    "\n",
    "Action(Load(c, p, a),  \n",
    "\tPRECOND: At(c, a) , At(p, a) , Cargo(c) , Plane(p) , Airport(a)  \n",
    "\tEFFECT: not At(c, a) , In(c, p))  \n",
    "Action(Unload(c, p, a),  \n",
    "\tPRECOND: In(c, p) , At(p, a) , Cargo(c) , Plane(p) , Airport(a)  \n",
    "\tEFFECT: At(c, a) ∧ not In(c, p))  \n",
    "Action(Fly(p, from, to),  \n",
    "\tPRECOND: At(p, from) , Plane(p) , Airport(from) , Airport(to)  \n",
    "\tEFFECT: not At(p, from) , At(p, to))  \n",
    "\n",
    "### Problem 1 initial state and goal:\n",
    "\n",
    "Init(At(C1, SFO) , At(C2, JFK),   \n",
    "\t At(P1, SFO) , At(P2, JFK),   \n",
    "\t Cargo(C1) , Cargo(C2),   \n",
    "\t Plane(P1) , Plane(P2),  \n",
    "\t Airport(JFK) , Airport(SFO))  \n",
    "Goal(At(C1, JFK) , At(C2, SFO))  \n",
    "\n",
    "### Problem 2 initial state and goal:\n",
    "\n",
    "Init(At(C1, SFO) , At(C2, JFK) , At(C3, ATL),   \n",
    "\t At(P1, SFO) , At(P2, JFK) , At(P3, ATL),   \n",
    "\t Cargo(C1) , Cargo(C2) , Cargo(C3),  \n",
    "\t Plane(P1) , Plane(P2) , Plane(P3), \n",
    "\t Airport(JFK) , Airport(SFO) , Airport(ATL))  \n",
    "Goal(At(C1, JFK) , At(C2, SFO) , At(C3, SFO))  \n",
    "\n",
    "### Problem 3 initial state and goal:\n",
    "\n",
    "Init(At(C1, SFO) , At(C2, JFK) , At(C3, ATL) , At(C4, ORD),   \n",
    "\t At(P1, SFO) , At(P2, JFK),   \n",
    "\t Cargo(C1) , Cargo(C2) , Cargo(C3) , Cargo(C4),  \n",
    "\t Plane(P1) , Plane(P2),  \n",
    "\t Airport(JFK) , Airport(SFO) , Airport(ATL) , Airport(ORD))  \n",
    "Goal(At(C1, JFK) , At(C3, JFK) , At(C2, SFO) , At(C4, SFO))  \n"
   ]
  },
  {
   "cell_type": "markdown",
   "metadata": {},
   "source": [
    "## Optimal Solutions  \n",
    "The optimal solutions two problems 1 to 3 are as follows:"
   ]
  },
  {
   "cell_type": "markdown",
   "metadata": {},
   "source": [
    "### Air Cargo Problem One  \n",
    "Load(C1, P1, SFO)  \n",
    "Load(C2, P2, JFK)  \n",
    "Fly(P2, JFK, SFO)  \n",
    "Unload(C2, P2, SFO)  \n",
    "Fly(P1, SFO, JFK)  \n",
    "Unload(C1, P1, JFK) \n",
    "\n",
    "### Air Cargo Problem Two  \n",
    "Load(C1, P1, SFO)  \n",
    "Load(C2, P2, JFK)  \n",
    "Load(C3, P3, ATL)  \n",
    "Fly(P2, JFK, SFO)  \n",
    "Unload(C2, P2, SFO)  \n",
    "Fly(P1, SFO, JFK)  \n",
    "Unload(C1, P1, JFK)  \n",
    "Fly(P3, ATL, SFO)  \n",
    "Unload(C3, P3, SFO)  \n",
    "\n",
    "### Air Cargo Problem Three  \n",
    "Load(C1, P1, SFO)  \n",
    "Load(C2, P2, JFK)  \n",
    "Fly(P2, JFK, ORD)  \n",
    "Load(C4, P2, ORD)  \n",
    "Fly(P1, SFO, ATL)  \n",
    "Load(C3, P1, ATL)  \n",
    "Fly(P1, ATL, JFK)  \n",
    "Unload(C1, P1, JFK)  \n",
    "Unload(C3, P1, JFK)  \n",
    "Fly(P2, ORD, SFO)  \n",
    "Unload(C2, P2, SFO)  \n",
    "Unload(C4, P2, SFO)  "
   ]
  },
  {
   "cell_type": "markdown",
   "metadata": {},
   "source": [
    "## Uninformed Searches   \n",
    "Doing breadth-first-search, depth-first-search and depth-limited-search with a limit of 50 steps, we found the following parameters."
   ]
  },
  {
   "cell_type": "markdown",
   "metadata": {},
   "source": [
    "### Breadth First Search"
   ]
  },
  {
   "cell_type": "markdown",
   "metadata": {},
   "source": [
    "#### Solving Air Cargo Problem 1 using breadth_first_search    \n",
    "...  \n",
    "Expansions 43  \n",
    "Goal Tests 56  \n",
    "New Nodes 180  \n",
    "Plan length: 6  Time elapsed in seconds: 0.08521554700564593"
   ]
  },
  {
   "cell_type": "markdown",
   "metadata": {},
   "source": [
    "#### Solving Air Cargo Problem 2 using breadth_first_search  \n",
    "...  \n",
    "Expansions 3343  \n",
    "Goal Tests 4609  \n",
    "New Nodes 30509  \n",
    "Plan length: 9  Time elapsed in seconds: 17.348794581994298"
   ]
  },
  {
   "cell_type": "markdown",
   "metadata": {},
   "source": [
    "#### Solving Air Cargo Problem 3 using breadth_first_search  \n",
    "...  \n",
    "Expansions 14663  \n",
    "Goal Tests 18098  \n",
    "New Nodes 129631  \n",
    "Plan length: 12  Time elapsed in seconds: 124.13952059501025"
   ]
  },
  {
   "cell_type": "markdown",
   "metadata": {},
   "source": [
    "### Depth First Search"
   ]
  },
  {
   "cell_type": "markdown",
   "metadata": {},
   "source": [
    "#### Solving Air Cargo Problem 1 using depth_first_graph_search  \n",
    "...    \n",
    "Expansions 21  \n",
    "Goal Tests 22  \n",
    "New Nodes 84  \n",
    "Plan length: 20  Time elapsed in seconds: 0.043530315975658596"
   ]
  },
  {
   "cell_type": "markdown",
   "metadata": {},
   "source": [
    "#### Solving Air Cargo Problem 2 using depth_first_graph_search  \n",
    "...    \n",
    "Expansions 624    \n",
    "Goal Tests 625  \n",
    "New Nodes 5602  \n",
    "Plan length: 619  Time elapsed in seconds: 4.235358421996352"
   ]
  },
  {
   "cell_type": "markdown",
   "metadata": {},
   "source": [
    "#### Solving Air Cargo Problem 3 using depth_first_graph_search  \n",
    "...    \n",
    "Expansions 408  \n",
    "Goal Tests 409  \n",
    "New Nodes 3364  \n",
    "Plan length: 392  Time elapsed in seconds: 2.2638161049981136"
   ]
  },
  {
   "cell_type": "markdown",
   "metadata": {},
   "source": [
    "### Depth Limited Search"
   ]
  },
  {
   "cell_type": "markdown",
   "metadata": {},
   "source": [
    "#### Solving Air Cargo Problem 1 using depth_limited_search\n",
    "...    \n",
    "Expansions 101  \n",
    "Goal Tests 271  \n",
    "New Nodes 414  \n",
    "Plan length: 50  Time elapsed in seconds: 0.19056284299585968"
   ]
  },
  {
   "cell_type": "markdown",
   "metadata": {},
   "source": [
    "#### Solving Air Cargo Problem 2 using depth_limited_search  \n",
    "...    \n",
    "Expansions 222719  \n",
    "Goal Tests 2053741  \n",
    "New Nodes 2054119  \n",
    "Plan length: 50  Time elapsed in seconds: 1283.8764354590094"
   ]
  },
  {
   "cell_type": "markdown",
   "metadata": {},
   "source": [
    "#### Solving Air Cargo Problem 3 using depth_limited_search\n",
    "...    \n",
    "\n",
    "... took longer than 45 minutes so we did not wait till the end..."
   ]
  },
  {
   "cell_type": "markdown",
   "metadata": {},
   "source": [
    "### Comment\n",
    "\n",
    "We see that Breadth First Search is optimal while Depth First and Depth Limited Search are not. It is true that Breadth First Search is generally optimal, while Depth First and Depth Limited search are not, see Artificial Intelligence, A Modern Approach, Russel, Norvig, 3rd Edition Chapter 3.4.7. Depth First Search runs a lot faster than Breadth First Search and expands less nodes. Depth Limited Search has trouble finding a solution as it has to find a path that is at most the length of its limit, here 50 steps. It takes longer than and expands more nodes than Depth First Search yet finds a shorter plan for Problem 2. Still it takes longer to run than Breadth First Search for problem 2. It took longer than 45 minutes for Problem 3 so we did not run it to the end.  \n",
    "We conclude that Depth Limited search was not really useful for this group of problems, while Breadth First Search is the choice if you want an optimal solution and Depth First Search is the choice if you want a fast solution."
   ]
  },
  {
   "cell_type": "markdown",
   "metadata": {},
   "source": [
    "## Informed Searches  \n",
    "We are going to conduct A-Star-Searches using to different heuristics. First, the ignore-preconditions heuristic and then the level-sum heuristic from a planning graph."
   ]
  },
  {
   "cell_type": "markdown",
   "metadata": {},
   "source": [
    "### A-Star-Search with ignore-preconditions heuristic"
   ]
  },
  {
   "cell_type": "markdown",
   "metadata": {},
   "source": [
    "#### Solving Air Cargo Problem 1 using astar_search with h_ignore_preconditions  \n",
    "...   \n",
    "Expansions 41  \n",
    "Goal Tests 43  \n",
    "New Nodes 170  \n",
    "Plan length: 6  Time elapsed in seconds: 0.10398646301473491\n"
   ]
  },
  {
   "cell_type": "markdown",
   "metadata": {},
   "source": [
    "#### Solving Air Cargo Problem 2 using astar_search with h_ignore_preconditions  \n",
    "...    \n",
    "Expansions 1450  \n",
    "Goal Tests 1452  \n",
    "New Nodes 13303  \n",
    "Plan length: 9  Time elapsed in seconds: 5.797789709002245\n"
   ]
  },
  {
   "cell_type": "markdown",
   "metadata": {},
   "source": [
    "#### Solving Air Cargo Problem 3 using astar_search with h_ignore_preconditions  \n",
    "...    \n",
    "Expansions 5040  \n",
    "Goal Tests 5042  \n",
    "New Nodes 44944  \n",
    "Plan length: 12  Time elapsed in seconds: 22.53121719000046\n"
   ]
  },
  {
   "cell_type": "markdown",
   "metadata": {},
   "source": [
    "### A-Star-Stearch with level-sum-heuristic"
   ]
  },
  {
   "cell_type": "markdown",
   "metadata": {},
   "source": [
    "#### Solving Air Cargo Problem 1 using astar_search with h_pg_levelsum  \n",
    "...    \n",
    "Expansions 11  \n",
    "Goal Tests 13  \n",
    "New Nodes 50  \n",
    "Plan length: 6  Time elapsed in seconds: 0.7509568399982527\n",
    "\n"
   ]
  },
  {
   "cell_type": "markdown",
   "metadata": {},
   "source": [
    "#### Solving Air Cargo Problem 2 using astar_search with h_pg_levelsum  \n",
    "...    \n",
    "Expansions 86  \n",
    "Goal Tests 88  \n",
    "New Nodes 841  \n",
    "Plan length: 9  Time elapsed in seconds: 57.99230600602459\n",
    "\n"
   ]
  },
  {
   "cell_type": "markdown",
   "metadata": {},
   "source": [
    "#### Solving Air Cargo Problem 3 using astar_search with h_pg_levelsum  \n",
    "...    \n",
    "Expansions 316  \n",
    "Goal Tests 318  \n",
    "New Nodes 2912  \n",
    "Plan length: 12  Time elapsed in seconds: 295.33291399199516\n"
   ]
  },
  {
   "cell_type": "markdown",
   "metadata": {},
   "source": [
    "## Conclusion  \n",
    "We are now going to compare Breadth First Search and Depth First Search to the informed A-Star searches. We exclude Depth Limited Search as we had found it to be not useful above. We also note that Depth First Search is non-optimal."
   ]
  },
  {
   "cell_type": "code",
   "execution_count": 1,
   "metadata": {},
   "outputs": [],
   "source": [
    "import pandas as pd\n",
    "from matplotlib import pyplot as plt\n",
    "%matplotlib inline\n",
    "\n",
    "df1=pd.DataFrame(\n",
    "    data=[[43,0.09],\n",
    "          [41,0.10],\n",
    "          [11,0.75],\n",
    "          [21,0.04]],\n",
    "    index=['Breadth First','A-Star-ignore-precondition','A-Star-level-sum','Depth First'],\n",
    "    columns=['Expansions','Time Elapsed'])\n",
    "df2=pd.DataFrame(\n",
    "    data=[[3343,17.35],\n",
    "          [1450,5.80],\n",
    "          [86,58.00],\n",
    "          [624,4.24]],\n",
    "    index=['Breadth First','A-Star-ignore-precondition','A-Star-level-sum','Depth First'],\n",
    "    columns=['Expansions','Time Elapsed'])\n",
    "df3=pd.DataFrame(\n",
    "    data=[[14663,124.14],\n",
    "          [5040,22.53],\n",
    "          [316,295.33],\n",
    "          [408,2.26]],\n",
    "    index=['Breadth First','A-Star-ignore-precondition','A-Star-level-sum','Depth First'],\n",
    "    columns=['Expansions','Time Elapsed'])\n",
    "\n",
    "\n"
   ]
  },
  {
   "cell_type": "code",
   "execution_count": 2,
   "metadata": {},
   "outputs": [
    {
     "data": {
      "text/plain": [
       "<matplotlib.axes._subplots.AxesSubplot at 0x7fb563ac6828>"
      ]
     },
     "execution_count": 2,
     "metadata": {},
     "output_type": "execute_result"
    },
    {
     "data": {
      "image/png": "[encoded data removed]",
      "text/plain": [
       "<matplotlib.figure.Figure at 0x7fb563d74f98>"
      ]
     },
     "metadata": {},
     "output_type": "display_data"
    }
   ],
   "source": [
    "df1['Expansions'].plot(kind='barh',title='Expansions Problem 1')"
   ]
  },
  {
   "cell_type": "code",
   "execution_count": 3,
   "metadata": {},
   "outputs": [
    {
     "data": {
      "text/plain": [
       "<matplotlib.axes._subplots.AxesSubplot at 0x7fb5884d9160>"
      ]
     },
     "execution_count": 3,
     "metadata": {},
     "output_type": "execute_result"
    },
    {
     "data": {
      "image/png": "[encoded data removed]",
      "text/plain": [
       "<matplotlib.figure.Figure at 0x7fb5613b4400>"
      ]
     },
     "metadata": {},
     "output_type": "display_data"
    }
   ],
   "source": [
    "df2['Expansions'].plot(kind='barh',title='Expansions Problem 2')"
   ]
  },
  {
   "cell_type": "code",
   "execution_count": 4,
   "metadata": {},
   "outputs": [
    {
     "data": {
      "text/plain": [
       "<matplotlib.axes._subplots.AxesSubplot at 0x7fb5613905c0>"
      ]
     },
     "execution_count": 4,
     "metadata": {},
     "output_type": "execute_result"
    },
    {
     "data": {
      "image/png": "[encoded data removed]",
      "text/plain": [
       "<matplotlib.figure.Figure at 0x7fb561357908>"
      ]
     },
     "metadata": {},
     "output_type": "display_data"
    }
   ],
   "source": [
    "df3['Expansions'].plot(kind='barh',title='Expansions Problem 3')"
   ]
  },
  {
   "cell_type": "code",
   "execution_count": 5,
   "metadata": {},
   "outputs": [
    {
     "data": {
      "text/plain": [
       "<matplotlib.axes._subplots.AxesSubplot at 0x7fb5612b97f0>"
      ]
     },
     "execution_count": 5,
     "metadata": {},
     "output_type": "execute_result"
    },
    {
     "data": {
      "image/png": "[encoded data removed]",
      "text/plain": [
       "<matplotlib.figure.Figure at 0x7fb5612a0198>"
      ]
     },
     "metadata": {},
     "output_type": "display_data"
    }
   ],
   "source": [
    "df1['Time Elapsed'].plot(kind='barh',title='Time Elapsed Problem 1')"
   ]
  },
  {
   "cell_type": "code",
   "execution_count": 6,
   "metadata": {},
   "outputs": [
    {
     "data": {
      "text/plain": [
       "<matplotlib.axes._subplots.AxesSubplot at 0x7fb56124f6d8>"
      ]
     },
     "execution_count": 6,
     "metadata": {},
     "output_type": "execute_result"
    },
    {
     "data": {
      "image/png": "[encoded data removed]",
      "text/plain": [
       "<matplotlib.figure.Figure at 0x7fb5611f3be0>"
      ]
     },
     "metadata": {},
     "output_type": "display_data"
    }
   ],
   "source": [
    "df2['Time Elapsed'].plot(kind='barh',title='Time Elapsed Problem 2')"
   ]
  },
  {
   "cell_type": "code",
   "execution_count": 7,
   "metadata": {},
   "outputs": [
    {
     "data": {
      "text/plain": [
       "<matplotlib.axes._subplots.AxesSubplot at 0x7fb56116b860>"
      ]
     },
     "execution_count": 7,
     "metadata": {},
     "output_type": "execute_result"
    },
    {
     "data": {
      "image/png": "[encoded data removed]",
      "text/plain": [
       "<matplotlib.figure.Figure at 0x7fb56115fe48>"
      ]
     },
     "metadata": {},
     "output_type": "display_data"
    }
   ],
   "source": [
    "df3['Time Elapsed'].plot(kind='barh',title='Time Elapsed Problem 3')"
   ]
  },
  {
   "cell_type": "markdown",
   "metadata": {},
   "source": [
    "We can see that Depth First Search generally is the fastest of the algorithms, yet as stated above it is not optimal while Breadth First Search is. The ignore-precondition heuristic is admissible, see Artificial Intelligence, A Modern Approach, Russel, Norvig, 3rd Edition (AIMA) Chapter 10.2.3., thus the tree version of A-Star Search with the ignore preconditions heuristic is optimal, see AIMA Chapter 3.5.2. The level-sum heuristic can in general be inadmissible yet \"works well in practice for problems that are largely decomposable\", see AIMA Chapter 10.3.1.  \n",
    "In our case both heuristics lead to optimal results.  \n",
    "Concerning nodes expanded A-Star Search with the level-sum heuristic expands the least nodes yet it is the slowest of the algorithms because it has to compute the planning graph in every step. A-Star Search with the ignore-preconditions heuristic still expands less nodes than Breadth First Search and it is faster than Breadth First Search as the heuristic is easy to compute. Therefore we conclude that A-Star Search with the ignore-preconditions heuristic is the best option we have for our problem.\n"
   ]
  }
 ],
 "metadata": {
  "anaconda-cloud": {},
  "kernelspec": {
   "display_name": "Python [conda env:aind]",
   "language": "python",
   "name": "conda-env-aind-py"
  },
  "language_info": {
   "codemirror_mode": {
    "name": "ipython",
    "version": 3
   },
   "file_extension": ".py",
   "mimetype": "text/x-python",
   "name": "python",
   "nbconvert_exporter": "python",
   "pygments_lexer": "ipython3",
   "version": "3.6.0"
  }
 },
 "nbformat": 4,
 "nbformat_minor": 2
}
